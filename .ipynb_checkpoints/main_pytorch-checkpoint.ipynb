{
 "cells": [
  {
   "cell_type": "markdown",
   "metadata": {},
   "source": [
    "\n",
    "Overview of pipeline \n",
    "- Download and parse the training data OR load the .npy file\n",
    "- Transcribe all MIDI songs and store in a 2D matrix\n",
    "- Train a network to classify each query into one of the songs in database\n"
   ]
  },
  {
   "cell_type": "code",
   "execution_count": 1,
   "metadata": {},
   "outputs": [],
   "source": [
    "####################################################################\n",
    "# Steps for the final design of QbH (TVD+Semi-global)\n",
    "# 1. Transcribe all MIDI songs, and generate a 2D matrix\n",
    "# 2. Select the set of queries\n",
    "# 3. Run a loop: each iteration, send a query and get its rank\n",
    "# 4. At the end of the loop, compute MRR"
   ]
  },
  {
   "cell_type": "code",
   "execution_count": null,
   "metadata": {},
   "outputs": [],
   "source": [
    "Package requirements:\n",
    "    torch\n",
    "    urllib\n",
    "    zipfile\n",
    "    sklearn\n",
    "    seaborn\n",
    "    "
   ]
  },
  {
   "cell_type": "code",
   "execution_count": 2,
   "metadata": {},
   "outputs": [],
   "source": [
    "import sys\n",
    "import os\n",
    "#import seaborn as sds\n",
    "#import pretty_midi\n",
    "#import librosa.display\n",
    "import numpy as np, scipy, scipy.spatial, matplotlib.pyplot as plt\n",
    "#from align import aligner\n",
    "#from align.matrix import DNAFULL\n",
    "#from fastdtw import fastdtw\n",
    "from scipy.spatial.distance import euclidean\n",
    "from numpy import diff\n",
    "#from six.moves import xrange\n",
    "#from skimage.restoration import denoise_wavelet, denoise_tv_chambolle\n",
    "from scipy.signal import find_peaks\n",
    "\n",
    "#sds.set()\n",
    "plt.rcParams['figure.figsize'] = (20, 15)\n",
    "#%matplotlib inline"
   ]
  },
  {
   "cell_type": "code",
   "execution_count": 3,
   "metadata": {},
   "outputs": [],
   "source": [
    "curr_path = os.getcwd()"
   ]
  },
  {
   "cell_type": "markdown",
   "metadata": {},
   "source": [
    "### Download the training data and parse in required format"
   ]
  },
  {
   "cell_type": "code",
   "execution_count": null,
   "metadata": {
    "scrolled": true
   },
   "outputs": [],
   "source": [
    "import urllib\n",
    "dataset_zip_path = curr_path + '\\data\\RogerJang_QBSH.zip'\n",
    "dataset_path = curr_path + '/data/MIR-QBHS/'\n",
    "urllib.request.urlretrieve('http://mirlab.org/dataset/public/MIR-QBSH.zip', dataset_zip_path )\n",
    "\n",
    "import zipfile\n",
    "with zipfile.ZipFile(dataset_zip_path, 'r') as zip_ref:\n",
    "    zip_ref.extractall(curr_path + '//data/')\n",
    "    \n",
    "dataset_path = os.getcwd()"
   ]
  },
  {
   "cell_type": "code",
   "execution_count": null,
   "metadata": {},
   "outputs": [],
   "source": []
  },
  {
   "cell_type": "code",
   "execution_count": 4,
   "metadata": {},
   "outputs": [],
   "source": []
  },
  {
   "cell_type": "code",
   "execution_count": null,
   "metadata": {},
   "outputs": [],
   "source": []
  },
  {
   "cell_type": "code",
   "execution_count": null,
   "metadata": {
    "scrolled": true
   },
   "outputs": [],
   "source": [
    "# Load the path to queries, \"querypath\"\n",
    "\n",
    "querypath =  dataset_path + 'waveFile\\\\'\n",
    "db_x = np.zeros((4500, 250)) # no. of queries to extract\n",
    "db_y = np.zeros(4500) # label corresponding to each query\n",
    "db_counter = 0 # counter to access (read/write) db\n",
    "\n",
    "for year in os.listdir(querypath) :\n",
    "    if os.path.isdir(os.path.join(querypath, year)) :\n",
    "        print(os.path.join(querypath, year))\n",
    "        for person in os.listdir(os.path.join(querypath, year)) :\n",
    "            if os.path.isdir(os.path.join(querypath, year, person)) :\n",
    "                for song in os.listdir(os.path.join(querypath, year, person)) :\n",
    "                    if (song.endswith('.pv')) :\n",
    "                        db_y[db_counter] = int((song.split(\".\"))[0])\n",
    "                        singlesong_path = querypath + year + \"/\" + person + \"/\" + song\n",
    "                        db_x[db_counter] = QbH_denoised(singlesong_path)\n",
    "                        db_counter += 1\n",
    "                        \n"
   ]
  },
  {
   "cell_type": "markdown",
   "metadata": {},
   "source": [
    "### If .npz file is already available, directly read from file"
   ]
  },
  {
   "cell_type": "code",
   "execution_count": 5,
   "metadata": {},
   "outputs": [],
   "source": [
    "#Save the 2D matrix and labels to .npz file\n",
    "#np.savez(curr_path + '\\\\data\\\\MIR-QBSH\\\\denoised_wav', X = db_x, y = db_y)\n",
    "\n",
    "\n",
    "#Load the matrices from .npz file\n",
    "data = np.load(curr_path + '\\\\data\\\\MIR-QBSH\\\\denoised_wav.npz')\n",
    "db_x = data['arr_0']\n",
    "db_y = data['arr_1']"
   ]
  },
  {
   "cell_type": "code",
   "execution_count": 6,
   "metadata": {},
   "outputs": [],
   "source": [
    "def QbH_denoised(testpath) :\n",
    "    \"\"\"\n",
    "    Function to denosie a query-recording by TVD and pitch_smoothening\n",
    "    Input: testpath of .pv format\n",
    "    Output: denoise pitch vector array\n",
    "    \"\"\"\n",
    "    ##################### Loading audio ###########################################################################################################\n",
    "    querypitch = np.genfromtxt(testpath, filling_values=0)\n",
    "    querypitch = np.trim_zeros(querypitch)\n",
    "\n",
    "    #print(\"Length of query with time information = \" + str(len(querypitch)))\n",
    "\n",
    "    for i in range(len(querypitch)):\n",
    "        if querypitch[i] == 0 :\n",
    "            querypitch[i] = querypitch[i-1]\n",
    "\n",
    "    #################### TVD ###########################################################################################################\n",
    "    ecg_skimage = denoise_tv_chambolle(querypitch, weight=5, eps=0.00009, n_iter_max=5000, multichannel=False)\n",
    "    #plt.plot(ecg_skimage)\n",
    "    #plt.show()\n",
    "    \n",
    "    #################### Pitch smoothening ##########################################################################################################\n",
    "    dy = np.diff(ecg_skimage)\n",
    "    #plt.plot(dy)\n",
    "    #plt.show()\n",
    "    \n",
    "    stdev = np.std(dy)\n",
    "    #print(stdev)\n",
    "\n",
    "    for i in range(len(dy)):\n",
    "        diff = dy[i] - np.mean(dy)\n",
    "        if np.absolute(diff) < stdev:\n",
    "            dy[i] = 0\n",
    "\n",
    "    #plt.plot(dy)\n",
    "    #plt.show()\n",
    "    \n",
    "    dyabs = np.absolute(dy)\n",
    "    peaks, _ = find_peaks(dyabs) # peaks stores the indices of peaks\n",
    "    #k = 0\n",
    "    #plt.plot(peaks, dyabs[peaks], 'xb-')\n",
    "    #plt.show()\n",
    "\n",
    "    ddy = np.zeros(len(dyabs[peaks]))\n",
    "    dy_corrected = np.copy(dy)\n",
    "\n",
    "    for i in range(1, len(peaks)) :\n",
    "        y = dyabs[peaks[i]] - dyabs[peaks[i-1]]\n",
    "        x = (peaks[i] - peaks[i-1] ) / 25.0 #/25.0 # divide by 25 for equal x, y scales\n",
    "        tan = np.arctan(np.abs(ddy))\n",
    "        if x != 0 :\n",
    "            ddy[i] = y/x\n",
    "\n",
    "        tan = np.degrees(np.arctan(np.abs(ddy[i])))\n",
    "        #print(\"slope= \" + str(ddy[i]))\n",
    "        #print(\" tan= \" + str(tan))\n",
    "        if tan > 80 :\n",
    "            minimum = min(dyabs[peaks[i]], dyabs[peaks[i-1]])\n",
    "            minidx = 0\n",
    "            if dyabs[peaks[i]] == minimum : \n",
    "                minidx = peaks[i]\n",
    "            else :\n",
    "                minidx = peaks[i-1]\n",
    "            #print(peaks[i], peaks[i-1], minidx)\n",
    "            dy_corrected[minidx] = 0\n",
    "    #print(dy_corrected)\n",
    "    #plt.plot(dy_corrected)\n",
    "    #plt.show()\n",
    "    \n",
    "    #################### RECONSTRUCTING THE QUERY PITCH VECTOR ###################################################\n",
    "    #plt.plot(dy_corrected)\n",
    "    #plt.show()\n",
    "    peaks1, _ = find_peaks(np.abs(dy_corrected))\n",
    "    #plt.plot(peaks1, dy_corrected[peaks1], \"x\")\n",
    "    #plt.xlim(0, 250)\n",
    "    #plt.show()\n",
    "\n",
    "    for i in range(1, len(ecg_skimage)):\n",
    "        if (i in peaks1) and (i != len(ecg_skimage)-1) :\n",
    "            ecg_skimage[i] = ecg_skimage[i+1]\n",
    "        else :\n",
    "            ecg_skimage[i] = ecg_skimage[i-1]\n",
    "\n",
    "    #plt.plot(ecg_skimage)\n",
    "    #plt.show()\n",
    "    \n",
    "    querypitch = ecg_skimage\n",
    "    querypitch = np.pad(querypitch, (0, 250 - len(querypitch)), 'constant', constant_values=(0, 0)) \n",
    "    return querypitch\n",
    "    \n",
    "\n",
    "\n",
    "######################## End of QbH for this query ######################################################################################################################\n"
   ]
  },
  {
   "cell_type": "code",
   "execution_count": 9,
   "metadata": {},
   "outputs": [
    {
     "data": {
      "text/plain": [
       "(array([2039, 2049, 2059, 2069, 2079, 2088, 2098, 2108, 2202, 2847, 2939,\n",
       "        2966, 3231, 3346, 3519, 3602, 3624, 3792, 4059], dtype=int64),)"
      ]
     },
     "execution_count": 9,
     "metadata": {},
     "output_type": "execute_result"
    }
   ],
   "source": [
    "np.where(db_y == 1)"
   ]
  },
  {
   "cell_type": "code",
   "execution_count": 13,
   "metadata": {},
   "outputs": [
    {
     "data": {
      "image/png": "[encoded data removed]",
      "text/plain": [
       "<Figure size 1440x1080 with 1 Axes>"
      ]
     },
     "metadata": {
      "needs_background": "light"
     },
     "output_type": "display_data"
    }
   ],
   "source": [
    "plt.plot(db_x[2039])\n",
    "plt.plot(db_x[2049])\n",
    "plt.plot(db_x[2059])\n",
    "plt.plot(db_x[2069])\n",
    "plt.show()"
   ]
  },
  {
   "cell_type": "code",
   "execution_count": null,
   "metadata": {},
   "outputs": [],
   "source": [
    "print(db_x.shape)\n",
    "print(db_y.shape)\n",
    "print(max(db_y))\n",
    "print(min(db_y))"
   ]
  },
  {
   "cell_type": "markdown",
   "metadata": {},
   "source": [
    "### Train a network with simple FC layers"
   ]
  },
  {
   "cell_type": "code",
   "execution_count": null,
   "metadata": {},
   "outputs": [],
   "source": [
    "# Imports\n",
    "from torchvision.datasets import MNIST\n",
    "from torchvision import transforms\n",
    "import torch\n",
    "from torch.optim import lr_scheduler\n",
    "import torch.optim as optim\n",
    "from torch.autograd import Variable\n",
    "from torch.utils.data.dataset import Dataset\n",
    "from trainer import fit\n",
    "import matplotlib\n",
    "import matplotlib.pyplot as plt\n",
    "import numpy as np\n",
    "from sklearn.model_selection import train_test_split \n",
    "from sklearn.manifold import TSNE\n",
    "import seaborn as sns\n",
    "\n",
    "\n",
    "%matplotlib inline\n",
    "cuda = torch.cuda.is_available()\n"
   ]
  },
  {
   "cell_type": "markdown",
   "metadata": {},
   "source": [
    "### Auxilliary fxns to plot embeddings"
   ]
  },
  {
   "cell_type": "code",
   "execution_count": null,
   "metadata": {},
   "outputs": [],
   "source": [
    "#TODO: needs some verification, dimenstion is probably incorrect\n",
    "def plot_embeddings(embeddings, targets, num_classes, xlim=None, ylim=None):\n",
    "    plt.figure(figsize=(10,10))\n",
    "    for i in range(num_classes):\n",
    "        inds = np.where(targets==i)[0]\n",
    "        plt.scatter(embeddings[inds,0], embeddings[inds,33], alpha=0.5)\n",
    "    if xlim:\n",
    "        plt.xlim(xlim[0], xlim[1])\n",
    "    if ylim:\n",
    "        plt.ylim(ylim[0], ylim[1])\n",
    "    #plt.legend(mnist_classes)\n",
    "\n",
    "def extract_embeddings(dataloader, model, num_classes):\n",
    "    with torch.no_grad():\n",
    "        model.eval()\n",
    "        embeddings = np.zeros((len(dataloader.dataset), 50))\n",
    "        labels = np.zeros(len(dataloader.dataset))\n",
    "        k = 0\n",
    "        count = 0\n",
    "        for images, target in dataloader:\n",
    "            if cuda:\n",
    "                images = images.cuda()\n",
    "            #temp = \n",
    "            #print(temp.shape)\n",
    "            #print(len(images))\n",
    "            embeddings[k:k+len(images)] = model.get_embedding(images).data.cpu().numpy()\n",
    "            labels[k:k+len(images)] = target.numpy()\n",
    "            k += len(images)\n",
    "            count = count+1\n",
    "            #print(count)\n",
    "    return embeddings, labels\n",
    "\n",
    "def scatter(x, colors):\n",
    "    # We choose a color palette with seaborn.\n",
    "    palette = np.array(sns.color_palette(\"hls\", 49))\n",
    "\n",
    "    # We create a scatter plot.\n",
    "    f = plt.figure(figsize=(8, 8))\n",
    "    ax = plt.subplot(aspect='equal')\n",
    "    sc = ax.scatter(x[:,0], x[:,1], lw=0, s=40, c=palette[colors.astype(np.int)])\n",
    "    plt.xlim(-25, 25)\n",
    "    plt.ylim(-25, 25)\n",
    "    ax.axis('off')\n",
    "    ax.axis('tight')\n",
    "    \n",
    "    return f, ax, sc\n"
   ]
  },
  {
   "cell_type": "code",
   "execution_count": null,
   "metadata": {},
   "outputs": [],
   "source": [
    "# Configuration options\n",
    "feature_vector_length = 250\n",
    "num_classes = 49\n",
    "\n",
    "# Load the data\n",
    "X_train, X_test, y_train, y_test = train_test_split(db_x, db_y, train_size=0.85, random_state=42)\n",
    "\n",
    "X_train = X_train.reshape(X_train.shape[0], feature_vector_length)\n",
    "X_test = X_test.reshape(X_test.shape[0], feature_vector_length)\n",
    "\n",
    "# Convert into greyscale\n",
    "X_train = X_train.astype('float32')\n",
    "X_test = X_test.astype('float32')\n",
    "\n",
    "class RJ_dataset(Dataset):\n",
    "   def __init__(self, data, labels):\n",
    "        self.data_len = data.shape[0]\n",
    "        self.data = data\n",
    "        self.labels = torch.tensor(labels, dtype=torch.long)\n",
    "   def __len__(self):\n",
    "        return self.data_len\n",
    "   def __getitem__(self, index):\n",
    "        pitch_vector = self.data[index,:]\n",
    "        label = self.labels[index]\n",
    "        return pitch_vector,label\n",
    "\n",
    "    \n",
    "train_dataset = RJ_dataset(X_train,y_train)\n",
    "test_dataset = RJ_dataset(X_test,y_test)\n",
    "\n",
    "# Set up data loaders\n",
    "batch_size = 100\n",
    "kwargs = {'num_workers': 0, 'pin_memory': True} if cuda else {}\n",
    "train_loader = torch.utils.data.DataLoader(train_dataset, batch_size=batch_size, shuffle=True, **kwargs)\n",
    "test_loader = torch.utils.data.DataLoader(test_dataset, batch_size=batch_size, shuffle=False, **kwargs)\n",
    "\n",
    "# Set up the network and training parameters\n",
    "from networks import FCNet\n",
    "from metrics import AccumulatedAccuracyMetric\n",
    "\n",
    "fc_net = FCNet(input_size=feature_vector_length, num_classes=num_classes)\n",
    "model = fc_net\n",
    "if cuda:\n",
    "    model.cuda()\n",
    "loss_fn = torch.nn.NLLLoss()\n",
    "lr = 1e-1\n",
    "optimizer = optim.Adam(model.parameters(), lr=lr)\n",
    "scheduler = lr_scheduler.StepLR(optimizer, 8, gamma=0.1, last_epoch=-1)\n",
    "n_epochs = 100\n",
    "log_interval = 10"
   ]
  },
  {
   "cell_type": "code",
   "execution_count": null,
   "metadata": {},
   "outputs": [],
   "source": [
    "fit(train_loader, test_loader, model, loss_fn, optimizer, scheduler, n_epochs, cuda, log_interval, metrics=[AccumulatedAccuracyMetric()])"
   ]
  },
  {
   "cell_type": "code",
   "execution_count": null,
   "metadata": {},
   "outputs": [],
   "source": [
    "train_embeddings_baseline, train_labels_baseline = extract_embeddings(train_loader, model, num_classes)\n",
    "plot_embeddings(train_embeddings_baseline, train_labels_baseline, num_classes)\n",
    "val_embeddings_baseline, val_labels_baseline = extract_embeddings(test_loader, model, num_classes)\n",
    "plot_embeddings(val_embeddings_baseline, val_labels_baseline, num_classes)"
   ]
  },
  {
   "cell_type": "code",
   "execution_count": null,
   "metadata": {},
   "outputs": [],
   "source": []
  },
  {
   "cell_type": "code",
   "execution_count": null,
   "metadata": {},
   "outputs": [],
   "source": [
    "z_reduced = TSNE(random_state=42).fit_transform(train_embeddings_baseline)\n",
    "scatter(z_reduced, train_labels_baseline)"
   ]
  },
  {
   "cell_type": "code",
   "execution_count": null,
   "metadata": {},
   "outputs": [],
   "source": []
  },
  {
   "cell_type": "code",
   "execution_count": null,
   "metadata": {},
   "outputs": [],
   "source": [
    "train_labels_baseline.shape\n"
   ]
  },
  {
   "cell_type": "code",
   "execution_count": null,
   "metadata": {},
   "outputs": [],
   "source": [
    "train_dataset[4]"
   ]
  },
  {
   "cell_type": "code",
   "execution_count": null,
   "metadata": {},
   "outputs": [],
   "source": [
    "Archived\n",
    "# Run a LOOP to transcribe all the MIDI files in the dataset and store in a 2D ARRAY\n",
    "\n",
    "# List all files in a directory using os.listdir\n",
    "basepath = 'audio/train/'\n",
    "N = 48\n",
    "\n",
    "# create a 2D array with np empty()\n",
    "pitchvalue = np.zeros((48, 250000)) # assuming that length of a song does not exceed 500s ~ 8min\n",
    "\n",
    "#n = len(querypitch)\n",
    "print('MIDI transcription begins: extracting note sequence of 48 MIDI songs')\n",
    "for data in os.listdir(basepath):\n",
    "    if data.endswith('.mid'):\n",
    "        # data is a string, eg, \"00001.mid\". we want 00001 so we split.\n",
    "        entry = data.split(\".\")\n",
    "        # counter for row number of the 2D array\n",
    "        # Load MIDI file into PrettyMIDI object\n",
    "        midifile = pretty_midi.PrettyMIDI(basepath + data)\n",
    "        for i in range(len(midifile.instruments)):\n",
    "            # Construct a PrettyMIDI object.\n",
    "            # We'll specify that it will have a tempo of 80bpm.\n",
    "            #pm = pretty_midi.PrettyMIDI(initial_tempo=80)\n",
    "            # if(len(midifile.instruments[i].pitch_bends) == 0):\n",
    "                #print(entry[0] + '.mid'+ ' is being sampled')\n",
    "                #print(midifile.instruments[i].notes)\n",
    "                #print(midifile.instruments[i].pitch_bends)\n",
    "                #print(len(midifile.instruments[i].pitch_bends))\n",
    "\n",
    "                # sampling rate r of MIDI should be the same as SR of query \n",
    "                # length of each query = 8s and n = length of querypitch vector\n",
    "                #r = 8/n \n",
    "                k = 0 # counter for array pitchvalue\n",
    "                t = 0.007*k # to keep time (discretization of the notes has been done at intervals of 2 ms)\n",
    "                for j in range(len(midifile.instruments[i].notes)):\n",
    "                    start = midifile.instruments[i].notes[j].start\n",
    "                    #print(start)\n",
    "                    end = midifile.instruments[i].notes[j].end\n",
    "                    pitch = midifile.instruments[i].notes[j].pitch\n",
    "                    t = start\n",
    "                    while t >= start and t <= end:\n",
    "                        k = int(t/0.007)\n",
    "                        pitchvalue[int(entry[0])-1][k] = pitch\n",
    "                        #print(pitch)\n",
    "                        t += 0.007\n",
    "\n",
    "\n",
    "print(\"End of Step: MIDI transcription\")\n",
    "print(\"...................................................................\")"
   ]
  }
 ],
 "metadata": {
  "kernelspec": {
   "display_name": "Python 3",
   "language": "python",
   "name": "python3"
  },
  "language_info": {
   "codemirror_mode": {
    "name": "ipython",
    "version": 3
   },
   "file_extension": ".py",
   "mimetype": "text/x-python",
   "name": "python",
   "nbconvert_exporter": "python",
   "pygments_lexer": "ipython3",
   "version": "3.8.3"
  }
 },
 "nbformat": 4,
 "nbformat_minor": 2
}
